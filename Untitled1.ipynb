{
 "cells": [
  {
   "cell_type": "markdown",
   "id": "7d8358d1-70d3-4813-9941-c6e0d90274d3",
   "metadata": {},
   "source": [
    "# 질의 분석 - 화행 분류 - 질의 정제 체인"
   ]
  },
  {
   "cell_type": "code",
   "execution_count": null,
   "id": "2a2c1ff4-707a-424a-8c82-0c3b1536da96",
   "metadata": {},
   "outputs": [],
   "source": [
    "# 필요 패키지 import 및 API 키 설정 로드\n",
    "import os\n",
    "from dotenv import load_dotenv\n",
    "from langchain_openai import ChatOpenAI\n",
    "from langchain_core.callbacks import StreamingStdOutCallbackHandler\n",
    "from langchain_core.prompts import ChatPromptTemplate, FewShotChatMessagePromptTemplate\n",
    "\n",
    "\n",
    "load_dotenv()"
   ]
  }
 ],
 "metadata": {
  "kernelspec": {
   "display_name": "langchain_spike",
   "language": "python",
   "name": "langchain_spike"
  },
  "language_info": {
   "codemirror_mode": {
    "name": "ipython",
    "version": 3
   },
   "file_extension": ".py",
   "mimetype": "text/x-python",
   "name": "python",
   "nbconvert_exporter": "python",
   "pygments_lexer": "ipython3",
   "version": "3.11.13"
  }
 },
 "nbformat": 4,
 "nbformat_minor": 5
}
